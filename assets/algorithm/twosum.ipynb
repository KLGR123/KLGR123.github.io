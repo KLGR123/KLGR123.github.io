{
 "cells": [
  {
   "cell_type": "markdown",
   "id": "2b949a8f",
   "metadata": {
    "vscode": {
     "languageId": "plaintext"
    }
   },
   "source": [
    "**两数之和**\n",
    "\n",
    "问题核心在于如何将每次操作的信息效率最大化。排序后的数组，排序给出了数字大小的顺序信息，因此这份信息熵可以帮我们将算法的复杂度（也是一种信息熵）从 o(n^2) 降低到 o(n)。结构上称为所谓“相向指针”。"
   ]
  },
  {
   "cell_type": "code",
   "execution_count": 1,
   "id": "e0ff5bc6",
   "metadata": {},
   "outputs": [
    {
     "data": {
      "text/plain": [
       "[1, 4]"
      ]
     },
     "execution_count": 1,
     "metadata": {},
     "output_type": "execute_result"
    }
   ],
   "source": [
    "from typing import List\n",
    "\n",
    "class Solution:\n",
    "    def twoSum(self, nums: List[int], target: int) -> List[int]:\n",
    "        left = 0\n",
    "        right = len(nums) - 1\n",
    "        while left <= right:\n",
    "            result = nums[left] + nums[right]\n",
    "            if result == target:\n",
    "                return [left+1, right+1]\n",
    "            elif result > target:\n",
    "                right -= 1\n",
    "            else:\n",
    "                left += 1\n",
    "        return [-1, -1]\n",
    "\n",
    "solution = Solution()\n",
    "numbers, target = [2, 3, 4, 4], 6\n",
    "\n",
    "answer = solution.twoSum(nums=numbers, target=target)\n",
    "answer"
   ]
  },
  {
   "cell_type": "markdown",
   "id": "0acc9afa",
   "metadata": {},
   "source": [
    "**三数之和**\n",
    "\n",
    "思路相同，只不过是把第三个数当作每次的 anchor，再多一个遍历循环，时间复杂度自然是 o(n^2) 的。\n",
    "为了使用信息高效的双指针，必须先排序。排序的复杂度是 o(nlogn)，因此整体复杂度还是 o(n^2) 的。"
   ]
  },
  {
   "cell_type": "code",
   "execution_count": 2,
   "id": "a4d8e038",
   "metadata": {},
   "outputs": [
    {
     "data": {
      "text/plain": [
       "[(-1, -1, 2), (-1, 0, 1), (-1, 0, 1)]"
      ]
     },
     "execution_count": 2,
     "metadata": {},
     "output_type": "execute_result"
    }
   ],
   "source": [
    "from typing import List\n",
    "\n",
    "class Solution:\n",
    "    def threeSum(self, nums: List[int], target: int = 0) -> List[int]:\n",
    "        nums.sort()\n",
    "        results = []\n",
    "        for anchor in range(0, len(nums)-2):\n",
    "            left = anchor + 1\n",
    "            right = len(nums) - 1\n",
    "            while left < right:\n",
    "                result = nums[anchor] + nums[left] + nums[right]\n",
    "                if result == 0:\n",
    "                    results.append((nums[anchor], nums[left], nums[right]))\n",
    "                    right -= 1\n",
    "                    left += 1\n",
    "                elif result > 0:\n",
    "                    right -= 1\n",
    "                else:\n",
    "                    left += 1\n",
    "        return results\n",
    "\n",
    "numbers = [-1, 0, 1, 2, -1, 4]\n",
    "answer = Solution().threeSum(nums=numbers)\n",
    "answer"
   ]
  },
  {
   "cell_type": "markdown",
   "id": "f833d7af",
   "metadata": {},
   "source": [
    "注意到有重复，如果要求不出现重复，还需要在 anchor left 和 right 三个判断层次上加上对上一位的重复判断。online 操作快于 offline 两阶段操作。"
   ]
  },
  {
   "cell_type": "code",
   "execution_count": 3,
   "id": "911d487c",
   "metadata": {},
   "outputs": [
    {
     "data": {
      "text/plain": [
       "[(-1, -1, 2), (-1, 0, 1)]"
      ]
     },
     "execution_count": 3,
     "metadata": {},
     "output_type": "execute_result"
    }
   ],
   "source": [
    "from typing import List\n",
    "\n",
    "class Solution:\n",
    "    def threeSum(self, nums: List[int], target: int = 0) -> List[int]:\n",
    "        nums.sort()\n",
    "        results = []\n",
    "        for anchor in range(0, len(nums)-2):\n",
    "            if anchor > 0 and nums[anchor] == nums[anchor-1]:\n",
    "                continue\n",
    "\n",
    "            left = anchor + 1\n",
    "            right = len(nums) - 1\n",
    "            while left < right:\n",
    "                result = nums[anchor] + nums[left] + nums[right]\n",
    "                if result == 0:\n",
    "                    results.append((nums[anchor], nums[left], nums[right]))\n",
    "\n",
    "                    right -= 1\n",
    "                    while right > left and nums[right] == nums[right+1]:\n",
    "                        right -=1\n",
    "\n",
    "                    left += 1\n",
    "                    while left < right and nums[left] == nums[left-1]:\n",
    "                        left += 1\n",
    "\n",
    "                elif result > 0:\n",
    "                    right -= 1\n",
    "                else:\n",
    "                    left += 1\n",
    "        return results\n",
    "\n",
    "numbers = [-1, 0, 1, 2, -1, 4]\n",
    "answer = Solution().threeSum(nums=numbers)\n",
    "answer"
   ]
  },
  {
   "cell_type": "markdown",
   "id": "4f5cdfb1",
   "metadata": {},
   "source": [
    "最后考虑早停。anchor 每次到一个位置时，如果当前的头三个已经大于 target，就可以早停了；如果当前的 anchor 和最后两位在当前时刻已经小于 target，说明可以 continue 到下一个位置了。"
   ]
  },
  {
   "cell_type": "code",
   "execution_count": 4,
   "id": "fccc451b",
   "metadata": {},
   "outputs": [
    {
     "data": {
      "text/plain": [
       "[(-1, -1, 2), (-1, 0, 1)]"
      ]
     },
     "execution_count": 4,
     "metadata": {},
     "output_type": "execute_result"
    }
   ],
   "source": [
    "from typing import List\n",
    "\n",
    "class Solution:\n",
    "    def threeSum(self, nums: List[int], target: int = 0) -> List[int]:\n",
    "        nums.sort()\n",
    "        results = []\n",
    "        for anchor in range(0, len(nums)-2):\n",
    "            if anchor > 0 and nums[anchor] == nums[anchor-1]:\n",
    "                continue\n",
    "\n",
    "            if nums[anchor] + nums[anchor+1] + nums[anchor+2] > target:\n",
    "                break\n",
    "\n",
    "            if nums[anchor] + nums[-1] + nums[-2] < target:\n",
    "                continue\n",
    "\n",
    "            left = anchor + 1\n",
    "            right = len(nums) - 1\n",
    "            while left < right:\n",
    "                result = nums[anchor] + nums[left] + nums[right]\n",
    "                if result == target:\n",
    "                    results.append((nums[anchor], nums[left], nums[right]))\n",
    "\n",
    "                    right -= 1\n",
    "                    while right > left and nums[right] == nums[right+1]:\n",
    "                        right -=1\n",
    "\n",
    "                    left += 1\n",
    "                    while left < right and nums[left] == nums[left-1]:\n",
    "                        left += 1\n",
    "\n",
    "                elif result > target:\n",
    "                    right -= 1\n",
    "                else:\n",
    "                    left += 1\n",
    "        return results\n",
    "\n",
    "numbers = [-1, 0, 1, 2, -1, 4]\n",
    "answer = Solution().threeSum(nums=numbers)\n",
    "answer"
   ]
  },
  {
   "cell_type": "code",
   "execution_count": null,
   "id": "cb7bace3",
   "metadata": {},
   "outputs": [],
   "source": []
  }
 ],
 "metadata": {
  "kernelspec": {
   "display_name": "venv",
   "language": "python",
   "name": "python3"
  },
  "language_info": {
   "codemirror_mode": {
    "name": "ipython",
    "version": 3
   },
   "file_extension": ".py",
   "mimetype": "text/x-python",
   "name": "python",
   "nbconvert_exporter": "python",
   "pygments_lexer": "ipython3",
   "version": "3.12.11"
  }
 },
 "nbformat": 4,
 "nbformat_minor": 5
}
