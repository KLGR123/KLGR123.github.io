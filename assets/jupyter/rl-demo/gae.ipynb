{
 "cells": [
  {
   "cell_type": "markdown",
   "id": "bb2936ca",
   "metadata": {},
   "source": [
    "PPO 中的广义优势估计（Generalized Advantage Estimation GAE）通过在时间步上对 TD Error 进行加权累加，提供了一个在偏差和方差之间可调的优势估计器。其定义为\n",
    "$$\n",
    "\\begin{aligned}A_{t}^{\\mathrm{GAE}(\\gamma, \\lambda)} & =\\delta_{t}+(\\gamma \\lambda) \\delta_{t+1}+(\\gamma \\lambda)^{2} \\delta_{t+2}+\\cdots \\\\& =\\sum_{l=0}^{\\infty}(\\gamma \\lambda)^{l} \\delta_{t+l}\\end{aligned}\n",
    "$$\n",
    "其中\n",
    "$\\delta_{t}=r_{t}+\\gamma v_{t}\\left(s_{t+1}\\right)-v_{t}\\left(s_{t}\\right)$ 是在第 t 步上的价值估计残差。 GAE 的衰减系数是 $\\lambda$，控制偏差和方差之间的平衡，即步数越大方差越大。\n",
    "- $\\lambda=0$ 只考虑一步的 TD Error，偏差较大，但方差较小；\n",
    "- $\\lambda=1$ 优势估计等价于蒙特卡洛方法，偏差较小，但方差较大；\n",
    "\n",
    "通常奖励是稀疏延迟的、最朴素的 reward model 对于整个序列分配一个最终分数。"
   ]
  },
  {
   "cell_type": "code",
   "execution_count": 7,
   "id": "c2c5e20b",
   "metadata": {},
   "outputs": [
    {
     "data": {
      "text/plain": [
       "(tensor([[ 0.0000,  0.0000,  0.0000,  0.0000,  0.0000,  0.0000,  0.0000,  0.0000,\n",
       "           0.0000,  0.0000,  0.0000,  0.0000,  0.0000,  0.0000,  0.0000,  0.0000,\n",
       "           0.0000,  0.0000,  0.0000, -1.9131],\n",
       "         [ 0.0000,  0.0000,  0.0000,  0.0000,  0.0000,  0.0000,  0.0000,  0.0000,\n",
       "           0.0000,  0.0000,  0.0000,  0.0000,  0.0000,  0.0000,  0.0000,  0.0000,\n",
       "           0.0000,  0.0000,  0.0000, -0.7905],\n",
       "         [ 0.0000,  0.0000,  0.0000,  0.0000,  0.0000,  0.0000,  0.0000,  0.0000,\n",
       "           0.0000,  0.0000,  0.0000,  0.0000,  0.0000,  0.0000,  0.0000,  0.0000,\n",
       "           0.0000,  0.0000,  0.0000, -0.7630],\n",
       "         [ 0.0000,  0.0000,  0.0000,  0.0000,  0.0000,  0.0000,  0.0000,  0.0000,\n",
       "           0.0000,  0.0000,  0.0000,  0.0000,  0.0000,  0.0000,  0.0000,  0.0000,\n",
       "           0.0000,  0.0000,  0.0000, -1.0393]]),\n",
       " torch.Size([4, 20]))"
      ]
     },
     "execution_count": 7,
     "metadata": {},
     "output_type": "execute_result"
    }
   ],
   "source": [
    "import torch\n",
    "\n",
    "B, T = 4, 20\n",
    "rewards = torch.cat((torch.zeros(B, T-1), torch.randn(B, 1)), dim=1)\n",
    "values = torch.randn(B, T)\n",
    "rewards, values.shape"
   ]
  },
  {
   "cell_type": "markdown",
   "id": "585567cd",
   "metadata": {},
   "source": [
    "反向、递推计算 GAE。"
   ]
  },
  {
   "cell_type": "code",
   "execution_count": 35,
   "id": "2955a8b3",
   "metadata": {},
   "outputs": [
    {
     "data": {
      "text/plain": [
       "tensor([[ 0.3177,  0.8067, -0.2291, -1.2326,  1.1936, -1.6586, -0.5858, -1.3243,\n",
       "          0.6070, -1.9644, -1.7141, -1.1202, -1.0013, -1.3996, -2.3914, -1.0959,\n",
       "         -0.2817, -1.5057, -1.5323,  0.1711],\n",
       "        [ 1.8244, -0.5336,  1.5302, -0.8799, -0.4558, -0.4538, -0.0670, -0.7079,\n",
       "         -0.6576,  1.5259, -1.2568, -0.0608, -0.1926, -1.9756, -1.5727, -0.9659,\n",
       "         -0.4553, -0.1435, -0.7183, -0.8768],\n",
       "        [-0.1662, -1.2120,  0.1726,  0.1674, -0.8651, -0.2279, -0.0876,  0.6933,\n",
       "         -0.3429, -0.8923,  0.9746,  0.1910, -0.6030, -0.5632, -1.2377, -0.0467,\n",
       "         -1.1971, -1.8571, -0.5677, -2.5791],\n",
       "        [ 1.7116, -1.4577, -2.6082,  0.6714,  0.0295, -1.1375, -1.6134, -1.6412,\n",
       "         -1.1371, -2.4929, -0.7455, -0.4193, -0.2312, -1.3275,  0.2358,  1.3057,\n",
       "         -1.1331,  0.6836, -0.9357, -0.1647]])"
      ]
     },
     "execution_count": 35,
     "metadata": {},
     "output_type": "execute_result"
    }
   ],
   "source": [
    "gamma = 0.95\n",
    "lambd = 0.99\n",
    "\n",
    "gae = 0.\n",
    "advantages = []\n",
    "\n",
    "for t in reversed(range(T)):\n",
    "    v_next = (values[:, t+1] if t < T-1 else 0.0)\n",
    "    delta = rewards[:, t] + gamma * v_next - values[:, t]\n",
    "    gae = delta + gamma * lambd * gae\n",
    "    advantages.append(gae)\n",
    "\n",
    "advantages = torch.stack(advantages[::-1], dim=1)\n",
    "advantages"
   ]
  }
 ],
 "metadata": {
  "kernelspec": {
   "display_name": "venv",
   "language": "python",
   "name": "python3"
  },
  "language_info": {
   "codemirror_mode": {
    "name": "ipython",
    "version": 3
   },
   "file_extension": ".py",
   "mimetype": "text/x-python",
   "name": "python",
   "nbconvert_exporter": "python",
   "pygments_lexer": "ipython3",
   "version": "3.12.11"
  }
 },
 "nbformat": 4,
 "nbformat_minor": 5
}
