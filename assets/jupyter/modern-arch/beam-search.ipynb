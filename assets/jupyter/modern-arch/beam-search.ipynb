{
 "cells": [
  {
   "cell_type": "markdown",
   "id": "924ef097",
   "metadata": {},
   "source": [
    "**束搜索（Beam Search）**\n",
    "\n",
    "一种近似的全局最优序列解码算法，每一步不只保留概率最高的一个候选（像贪心那样），而是保留前 B 个候选（束宽 beam size），并在下一步同时扩展它们，最后从所有完整候选里选得分最高的序列。\n",
    "\n",
    "- 贪心（Greedy）：每步只取当前概率最高的 token，快，但容易走入局部最优；\n",
    "- 采样（Temperature / Top-k / Top-p）：按分布抽样，多样性强，适合创作；可控性和稳定性较差；\n",
    "- 束搜索（Beam）：每步保留多个最优候选，稳定、趋向高似然，但可能牺牲创意、多样性，且计算量随束宽上升。\n",
    "\n",
    "核心原理如下\n",
    "- 记序列 $y_{1:L}$ 的得分为对数似然的和 $\\text{score}=\\sum_{t=1}^{L}\\log p(y_t\\mid y_{<t},x)$\n",
    "- 为避免“偏爱短句”，常用长度惩罚 / 归一化（GNMT 常用形式）\n",
    "$$\n",
    "\\text{LP}(L)=\\frac{(5+L)^\\alpha}{(5+1)^\\alpha},\\quad\n",
    "\\text{final\\_score}=\\frac{\\sum \\log p}{\\text{LP}(L)},\\ \\alpha\\in[0,1]\n",
    "$$\n",
    "- 过程：维护大小为 B 的“束”，逐步扩展到所有词，再按（累计对数似然 + 惩罚）打分，剪枝为新的前 B 个；遇到 EOS 就放入“完成池”，直到达到最大长度或完成池数量满足要求。\n",
    "\n",
    "一些工程技巧\n",
    "- 长度惩罚 $\\alpha\\approx0.6$（经验值，可调）；\n",
    "- 早停 / 多重早停：一旦完成池里已有的最优候选分数已不可能被未完成束超越，就停止；\n",
    "- 多样化束搜索（Diverse Beam Search）：在不同束之间加入去重 / 分组惩罚，提升多样性；\n",
    "- 受约束束搜索（Constrained / DFA / Regex Beam）：仅允许扩展到满足约束的 token（适合生成 JSON、SQL、函数调用参数等）；"
   ]
  },
  {
   "cell_type": "markdown",
   "id": "42bf7fc6",
   "metadata": {},
   "source": [
    "如下先实现一个最朴素的 LM。"
   ]
  },
  {
   "cell_type": "code",
   "execution_count": 4,
   "id": "8193cc3c",
   "metadata": {},
   "outputs": [],
   "source": [
    "import math\n",
    "from collections import namedtuple\n",
    "\n",
    "EOS = \"<eos>\"\n",
    "BeamItem = namedtuple(\"BeamItem\", [\"tokens\", \"logprob_sum\", \"finished\"])\n",
    "toy_table = {\n",
    "    \"<bos>\": {\"我\": 0.6, \"今\": 0.3, \"这\": 0.1},\n",
    "    \"我\": {\"爱\": 0.7, \"要\": 0.2, EOS: 0.1},\n",
    "    \"今\": {\"天\": 0.8, EOS: 0.2},\n",
    "    \"这\": {\"个\": 0.6, \"是\": 0.3, EOS: 0.1},\n",
    "    \"爱\": {\"NLP\": 0.5, \"你\": 0.4, EOS: 0.1},\n",
    "    \"要\": {\"去\": 0.7, EOS: 0.3},\n",
    "    \"天\": {\"很\": 0.7, \"下雨\": 0.2, EOS: 0.1},\n",
    "    \"个\": {\"例子\": 0.9, EOS: 0.1},\n",
    "    \"是\": {\"束搜索\": 0.8, EOS: 0.2},\n",
    "    \"NLP\": {EOS: 1.0},\n",
    "    \"你\": {EOS: 1.0},\n",
    "    \"去\": {\"学习\": 0.8, EOS: 0.2},\n",
    "    \"很\": {\"好\": 0.9, EOS: 0.1},\n",
    "    \"下雨\": {EOS: 1.0},\n",
    "    \"例子\": {EOS: 1.0},\n",
    "    \"束搜索\": {EOS: 1.0},\n",
    "    \"学习\": {\"束搜索\": 0.6, \"NLP\": 0.3, EOS: 0.1},\n",
    "    \"好\": {EOS: 1.0}\n",
    "}"
   ]
  },
  {
   "cell_type": "code",
   "execution_count": 6,
   "id": "cbecb4fc",
   "metadata": {},
   "outputs": [],
   "source": [
    "def toy_next_logprobs(prefix_tokens):\n",
    "    last = prefix_tokens[-1] if prefix_tokens else \"<bos>\"\n",
    "    probs = toy_table.get(last, {EOS: 1.0})\n",
    "    return {tok: math.log(p) for tok, p in probs.items()}\n",
    "\n",
    "def length_penalty(length, alpha=0.6):\n",
    "    return ((5 + length) ** alpha) / ((5 + 1) ** alpha)\n",
    "\n",
    "def beam_search(next_logprob_fn,\n",
    "                beam_size=3,\n",
    "                max_len=10,\n",
    "                num_return_sequences=3,\n",
    "                alpha=0.6):\n",
    "\n",
    "    beams = [BeamItem(tokens=[], logprob_sum=0.0, finished=False)]\n",
    "    finished = []\n",
    "\n",
    "    for _ in range(max_len):\n",
    "        candidates = []\n",
    "        for b in beams:\n",
    "            if b.finished:\n",
    "                candidates.append(b)\n",
    "                continue\n",
    "            logprobs = next_logprob_fn(b.tokens if b.tokens else [])\n",
    "            for tok, lp in logprobs.items():\n",
    "                new_tokens = b.tokens + [tok]\n",
    "                new_finished = (tok == EOS)\n",
    "                new_logprob_sum = b.logprob_sum + lp\n",
    "                candidates.append(BeamItem(new_tokens, new_logprob_sum, new_finished))\n",
    "\n",
    "        def scored(item):\n",
    "            L = len(item.tokens) if not item.finished else max(1, len(item.tokens)-1)\n",
    "            return item.logprob_sum / length_penalty(L, alpha)\n",
    "\n",
    "        candidates.sort(key=scored, reverse=True)\n",
    "\n",
    "        new_beams = []\n",
    "        for c in candidates:\n",
    "            if len(new_beams) < beam_size:\n",
    "                if c.finished:\n",
    "                    finished.append(c)\n",
    "                else:\n",
    "                    new_beams.append(c)\n",
    "        beams = new_beams\n",
    "\n",
    "        # early stopping if no beams\n",
    "        if not beams:\n",
    "            break\n",
    "\n",
    "    # if no finished, use current beams\n",
    "    pool = finished if finished else beams\n",
    "    pool.sort(key=lambda x: x.logprob_sum / length_penalty(\n",
    "        max(1, len(x.tokens)-(1 if x.finished else 0)), alpha), reverse=True)\n",
    "\n",
    "    outs = []\n",
    "    for item in pool[:num_return_sequences]:\n",
    "        toks = item.tokens[:-1] if item.finished and item.tokens and item.tokens[-1]==EOS else item.tokens\n",
    "        outs.append((\" \".join(toks), item.logprob_sum))\n",
    "    return outs"
   ]
  },
  {
   "cell_type": "code",
   "execution_count": 8,
   "id": "b0a10db4",
   "metadata": {},
   "outputs": [
    {
     "name": "stdout",
     "output_type": "stream",
     "text": [
      "[1] 我 爱 NLP (sum logprob=-1.561)\n",
      "[2] 今 天 很 好 (sum logprob=-1.889)\n",
      "[3] 我 爱 你 (sum logprob=-1.784)\n"
     ]
    }
   ],
   "source": [
    "results = beam_search(toy_next_logprobs, beam_size=3, max_len=10, num_return_sequences=3, alpha=0.6)\n",
    "for i, (txt, lp) in enumerate(results, 1):\n",
    "    print(f\"[{i}] {txt} (sum logprob={lp:.3f})\")"
   ]
  }
 ],
 "metadata": {
  "kernelspec": {
   "display_name": "venv",
   "language": "python",
   "name": "python3"
  },
  "language_info": {
   "codemirror_mode": {
    "name": "ipython",
    "version": 3
   },
   "file_extension": ".py",
   "mimetype": "text/x-python",
   "name": "python",
   "nbconvert_exporter": "python",
   "pygments_lexer": "ipython3",
   "version": "3.12.11"
  }
 },
 "nbformat": 4,
 "nbformat_minor": 5
}
