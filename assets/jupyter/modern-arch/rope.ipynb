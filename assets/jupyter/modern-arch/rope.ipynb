{
 "cells": [
  {
   "cell_type": "markdown",
   "id": "ce422e54",
   "metadata": {
    "vscode": {
     "languageId": "plaintext"
    }
   },
   "source": [
    "RoPE 通过复数数乘的方式，让 token 在高维空间中进行旋转，从而编码相对位置信息。\n",
    "\n",
    "对于输入向量 $x=\\left(x_{1}, x_{2}, \\ldots, x_{d}\\right)$（其中 d 是维度），RoPE 将其拆分为偶数索引和奇数索引\n",
    "$$\\left(x_{1}, x_{2}\\right),\\left(x_{3}, x_{4}\\right), \\ldots,\\left(x_{d-1}, x_{d}\\right)$$\n",
    "\n",
    "然后，对这些二维向量对进行旋转\n",
    "\n",
    "$$\\left(x^{\\prime}, y^{\\prime}\\right)=(x \\cos \\theta-y \\sin \\theta, x \\sin \\theta+y \\cos \\theta)$$\n",
    "\n",
    "中 $\\theta$ 由位置 p 和固定基数 10000 计算得到\n",
    "$$\\theta_{i}=\\frac{p}{10000^{2 i / d}}$$\n",
    "\n",
    "适用于 Transformer，通常用于 query 和 key，相乘后会得到相对位置信息。增强注意力机制对相对位置信息的建模。"
   ]
  },
  {
   "cell_type": "code",
   "execution_count": 41,
   "id": "e7faba6e",
   "metadata": {},
   "outputs": [
    {
     "data": {
      "text/plain": [
       "torch.Size([20, 64])"
      ]
     },
     "execution_count": 41,
     "metadata": {},
     "output_type": "execute_result"
    }
   ],
   "source": [
    "import torch\n",
    "\n",
    "B, T, C = 2, 20, 128\n",
    "x = torch.randn(B, T, C)\n",
    "Wq, Wk = torch.nn.Linear(C, C), torch.nn.Linear(C, C)\n",
    "Q, K = Wq(x), Wk(x)\n",
    "\n",
    "theta = 10000 ** (-torch.arange(0, C, 2) / C)\n",
    "theta = theta.expand(size=(20, 64))\n",
    "theta.shape"
   ]
  },
  {
   "cell_type": "code",
   "execution_count": 42,
   "id": "8ab527b3",
   "metadata": {},
   "outputs": [
    {
     "data": {
      "text/plain": [
       "torch.Size([20, 1])"
      ]
     },
     "execution_count": 42,
     "metadata": {},
     "output_type": "execute_result"
    }
   ],
   "source": [
    "pos = torch.arange(0, T).unsqueeze(1)\n",
    "pos.shape"
   ]
  },
  {
   "cell_type": "code",
   "execution_count": 43,
   "id": "d97e00ea",
   "metadata": {},
   "outputs": [
    {
     "data": {
      "text/plain": [
       "torch.Size([20, 64])"
      ]
     },
     "execution_count": 43,
     "metadata": {},
     "output_type": "execute_result"
    }
   ],
   "source": [
    "angles = (pos * theta)\n",
    "cos = torch.cos(angles)\n",
    "sin = torch.sin(angles)\n",
    "cos.shape"
   ]
  },
  {
   "cell_type": "code",
   "execution_count": 51,
   "id": "f68f161a",
   "metadata": {},
   "outputs": [
    {
     "data": {
      "text/plain": [
       "torch.Size([2, 20, 128])"
      ]
     },
     "execution_count": 51,
     "metadata": {},
     "output_type": "execute_result"
    }
   ],
   "source": [
    "x1 = Q[:, :, 0::2]\n",
    "x2 = Q[:, :, 1::2]\n",
    "rotated_x1 = x1 * cos - x2 * sin\n",
    "rotated_x2 = x1 * sin + x2 * cos\n",
    "Q_rope = torch.stack([rotated_x1, rotated_x2], dim=-1).flatten(-2)\n",
    "Q_rope.shape"
   ]
  }
 ],
 "metadata": {
  "kernelspec": {
   "display_name": "venv",
   "language": "python",
   "name": "python3"
  },
  "language_info": {
   "codemirror_mode": {
    "name": "ipython",
    "version": 3
   },
   "file_extension": ".py",
   "mimetype": "text/x-python",
   "name": "python",
   "nbconvert_exporter": "python",
   "pygments_lexer": "ipython3",
   "version": "3.12.11"
  }
 },
 "nbformat": 4,
 "nbformat_minor": 5
}
