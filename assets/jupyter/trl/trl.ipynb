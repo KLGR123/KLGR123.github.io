{
 "cells": [
  {
   "cell_type": "code",
   "execution_count": null,
   "id": "1c560676",
   "metadata": {},
   "outputs": [],
   "source": [
    "import torch\n",
    "from transformers import GPT2Tokenizer\n",
    "from trl import AutoModelForCausalLMWithValueHead, PPOConfig, PPOTrainer"
   ]
  },
  {
   "cell_type": "code",
   "execution_count": 7,
   "id": "f230af94",
   "metadata": {},
   "outputs": [
    {
     "name": "stdout",
     "output_type": "stream",
     "text": [
      "MPS available: True\n",
      "MPS built: True\n"
     ]
    },
    {
     "data": {
      "text/plain": [
       "device(type='mps', index=0)"
      ]
     },
     "execution_count": 7,
     "metadata": {},
     "output_type": "execute_result"
    }
   ],
   "source": [
    "print(f\"MPS available: {torch.backends.mps.is_available()}\")\n",
    "print(f\"MPS built: {torch.backends.mps.is_built()}\")\n",
    "\n",
    "test_tensor = torch.randn(1, 10)\n",
    "test_tensor = test_tensor.to(\"mps\")\n",
    "test_tensor.device"
   ]
  },
  {
   "cell_type": "markdown",
   "id": "f1630754",
   "metadata": {},
   "source": [
    "PPO 微调语言模型大致包括三个步骤。"
   ]
  },
  {
   "cell_type": "code",
   "execution_count": 8,
   "id": "cf6ee2c4",
   "metadata": {},
   "outputs": [],
   "source": [
    "model = AutoModelForCausalLMWithValueHead.from_pretrained(\"gpt2\")\n",
    "ref_model = AutoModelForCausalLMWithValueHead.from_pretrained(\"gpt2\")\n",
    "tokenizer = GPT2Tokenizer.from_pretrained(\"gpt2\")\n",
    "tokenizer.pad_token = tokenizer.eos_token\n",
    "\n",
    "device = \"mps\"\n",
    "model = model.to(device)\n",
    "ref_model = ref_model.to(device)"
   ]
  },
  {
   "cell_type": "code",
   "execution_count": null,
   "id": "2ac8dbd2",
   "metadata": {},
   "outputs": [],
   "source": [
    "ppo_config = {\n",
    "    \"mini_batch_size\": 1, \n",
    "    \"batch_size\": 1,\n",
    "    \"bf16\": False,\n",
    "    \"fp16\": False,\n",
    "    \"use_mps_device\": True\n",
    "}\n",
    "config = PPOConfig(**ppo_config)\n",
    "ppo_trainer = PPOTrainer(config, model, ref_model, tokenizer)"
   ]
  },
  {
   "cell_type": "code",
   "execution_count": null,
   "id": "7f8f6319",
   "metadata": {},
   "outputs": [],
   "source": [
    "query_txt = \"This morning I went to the \"\n",
    "query_tensor = tokenizer.encode(query_txt, return_tensors=\"pt\").to(model.pretrained_model.device)"
   ]
  },
  {
   "cell_type": "code",
   "execution_count": null,
   "id": "6f020d0b",
   "metadata": {},
   "outputs": [],
   "source": []
  }
 ],
 "metadata": {
  "kernelspec": {
   "display_name": "venv",
   "language": "python",
   "name": "python3"
  },
  "language_info": {
   "codemirror_mode": {
    "name": "ipython",
    "version": 3
   },
   "file_extension": ".py",
   "mimetype": "text/x-python",
   "name": "python",
   "nbconvert_exporter": "python",
   "pygments_lexer": "ipython3",
   "version": "3.12.11"
  }
 },
 "nbformat": 4,
 "nbformat_minor": 5
}
