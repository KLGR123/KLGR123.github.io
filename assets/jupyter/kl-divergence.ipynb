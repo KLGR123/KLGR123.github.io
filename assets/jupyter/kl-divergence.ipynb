{
 "cells": [
  {
   "cell_type": "code",
   "execution_count": 1,
   "id": "3e149c9d",
   "metadata": {},
   "outputs": [],
   "source": [
    "import numpy as np\n",
    "\n",
    "def kl_divergence(q, p):\n",
    "    epsilon = 1e-12\n",
    "    q_safe = np.clip(q, epsilon, 1.0)\n",
    "    p_safe = np.clip(p, epsilon, 1.0)\n",
    "    return np.sum(q_safe * np.log(q_safe / p_safe))"
   ]
  },
  {
   "cell_type": "code",
   "execution_count": 8,
   "id": "1b65243d",
   "metadata": {},
   "outputs": [
    {
     "data": {
      "text/plain": [
       "array([ 0.20794415, -0.04711321, -0.08630462])"
      ]
     },
     "execution_count": 8,
     "metadata": {},
     "output_type": "execute_result"
    }
   ],
   "source": [
    "q = np.array([0.3, 0.4, 0.3])\n",
    "p = np.array([0.15, 0.45, 0.4])\n",
    "q * np.log(q / p)"
   ]
  },
  {
   "cell_type": "code",
   "execution_count": null,
   "id": "ef1006c1",
   "metadata": {},
   "outputs": [],
   "source": []
  }
 ],
 "metadata": {
  "kernelspec": {
   "display_name": "venv",
   "language": "python",
   "name": "python3"
  },
  "language_info": {
   "codemirror_mode": {
    "name": "ipython",
    "version": 3
   },
   "file_extension": ".py",
   "mimetype": "text/x-python",
   "name": "python",
   "nbconvert_exporter": "python",
   "pygments_lexer": "ipython3",
   "version": "3.12.11"
  }
 },
 "nbformat": 4,
 "nbformat_minor": 5
}
