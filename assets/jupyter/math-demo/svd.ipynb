{
 "cells": [
  {
   "cell_type": "code",
   "execution_count": 29,
   "id": "570a2359",
   "metadata": {},
   "outputs": [
    {
     "data": {
      "text/plain": [
       "((10, 10), (6,), (6, 6), 3.544335770165914)"
      ]
     },
     "execution_count": 29,
     "metadata": {},
     "output_type": "execute_result"
    }
   ],
   "source": [
    "import numpy as np\n",
    "A = np.random.random((10, 6))\n",
    "A.shape\n",
    "U, S, Vt = np.linalg.svd(A)\n",
    "U.shape, S.shape, Vt.shape, S.max()"
   ]
  },
  {
   "cell_type": "code",
   "execution_count": 42,
   "id": "4c439de5",
   "metadata": {},
   "outputs": [],
   "source": [
    "Sigma = np.zeros_like(A, dtype=float)\n",
    "Sigma[:len(S), :len(S)] = np.diag(S)\n",
    "# Sigma.shape"
   ]
  },
  {
   "cell_type": "code",
   "execution_count": 32,
   "id": "b76dc162",
   "metadata": {},
   "outputs": [
    {
     "data": {
      "text/plain": [
       "True"
      ]
     },
     "execution_count": 32,
     "metadata": {},
     "output_type": "execute_result"
    }
   ],
   "source": [
    "A_reconstructed = np.dot(U, np.dot(Sigma, Vt))\n",
    "np.allclose(A_reconstructed, A)"
   ]
  },
  {
   "cell_type": "code",
   "execution_count": 33,
   "id": "d8363a99",
   "metadata": {},
   "outputs": [
    {
     "data": {
      "image/png": "[encoded data removed]",
      "text/plain": [
       "<Figure size 1200x400 with 3 Axes>"
      ]
     },
     "metadata": {},
     "output_type": "display_data"
    }
   ],
   "source": [
    "import matplotlib.pyplot as plt\n",
    "\n",
    "fig, axs = plt.subplots(1, 3, figsize=(12, 4))\n",
    "axs[0].imshow(A)\n",
    "axs[1].imshow(A_reconstructed)\n",
    "axs[2].imshow(Sigma)\n",
    "for ax in axs:\n",
    "    ax.axis('off')"
   ]
  },
  {
   "cell_type": "code",
   "execution_count": 4,
   "id": "5f5c4d61",
   "metadata": {},
   "outputs": [
    {
     "data": {
      "text/plain": [
       "(array([[-0.27972492, -0.01900922,  0.94403937,  0.1737305 ],\n",
       "        [-0.40784955, -0.82791998, -0.06777927, -0.37896334],\n",
       "        [-0.56812635,  0.55920423, -0.04629767, -0.60197974],\n",
       "        [-0.65775768,  0.03844195, -0.31945605,  0.68104691]]),\n",
       " array([1.98637169, 0.49890106, 0.25332575]),\n",
       " array([[-0.60504003, -0.63097803, -0.48558552],\n",
       "        [-0.7071082 ,  0.14551703,  0.69197022],\n",
       "        [ 0.36595704, -0.76203118,  0.53421336]]))"
      ]
     },
     "execution_count": 4,
     "metadata": {},
     "output_type": "execute_result"
    }
   ],
   "source": [
    "from scipy.linalg import svd\n",
    "import numpy as np\n",
    "\n",
    "A = np.random.random((4, 3))\n",
    "U, S, Vt = svd(A)\n",
    "U, S, Vt"
   ]
  },
  {
   "cell_type": "code",
   "execution_count": null,
   "id": "ee88b22a",
   "metadata": {},
   "outputs": [],
   "source": []
  },
  {
   "cell_type": "code",
   "execution_count": 12,
   "id": "f7d98002",
   "metadata": {},
   "outputs": [
    {
     "data": {
      "text/plain": [
       "10"
      ]
     },
     "execution_count": 12,
     "metadata": {},
     "output_type": "execute_result"
    }
   ],
   "source": [
    "import torch\n",
    "import numpy as np\n",
    "import torch.nn.functional as F\n",
    "\n",
    "vocab = [\"dog\", \"cat\", \"man\", \"woman\", \"love\", \"hate\", \"ball\", \"food\", \"play\", \"sleep\"]\n",
    "vocab_size = len(vocab)\n",
    "vocab_size"
   ]
  },
  {
   "cell_type": "code",
   "execution_count": 13,
   "id": "d5daf022",
   "metadata": {},
   "outputs": [
    {
     "data": {
      "text/plain": [
       "{'dog': 0,\n",
       " 'cat': 1,\n",
       " 'man': 2,\n",
       " 'woman': 3,\n",
       " 'love': 4,\n",
       " 'hate': 5,\n",
       " 'ball': 6,\n",
       " 'food': 7,\n",
       " 'play': 8,\n",
       " 'sleep': 9}"
      ]
     },
     "execution_count": 13,
     "metadata": {},
     "output_type": "execute_result"
    }
   ],
   "source": [
    "word_to_idx = {word: idx for idx, word in enumerate(vocab)}\n",
    "word_to_idx"
   ]
  },
  {
   "cell_type": "code",
   "execution_count": 16,
   "id": "d43f6115",
   "metadata": {},
   "outputs": [
    {
     "data": {
      "text/plain": [
       "tensor([1])"
      ]
     },
     "execution_count": 16,
     "metadata": {},
     "output_type": "execute_result"
    }
   ],
   "source": [
    "F.one_hot(torch.tensor(word_to_idx[\"dog\"]))"
   ]
  },
  {
   "cell_type": "code",
   "execution_count": 41,
   "id": "1ce8a4d2",
   "metadata": {},
   "outputs": [
    {
     "data": {
      "text/plain": [
       "torch.Size([2, 4, 7])"
      ]
     },
     "execution_count": 41,
     "metadata": {},
     "output_type": "execute_result"
    }
   ],
   "source": [
    "x = torch.randn((4, 7))\n",
    "torch.stack((x, x), dim=0).shape"
   ]
  },
  {
   "cell_type": "code",
   "execution_count": null,
   "id": "594aa09e",
   "metadata": {},
   "outputs": [],
   "source": []
  }
 ],
 "metadata": {
  "kernelspec": {
   "display_name": "llamaindex",
   "language": "python",
   "name": "python3"
  },
  "language_info": {
   "codemirror_mode": {
    "name": "ipython",
    "version": 3
   },
   "file_extension": ".py",
   "mimetype": "text/x-python",
   "name": "python",
   "nbconvert_exporter": "python",
   "pygments_lexer": "ipython3",
   "version": "3.10.14"
  }
 },
 "nbformat": 4,
 "nbformat_minor": 5
}
