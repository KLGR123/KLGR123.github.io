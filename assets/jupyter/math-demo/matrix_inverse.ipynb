{
 "cells": [
  {
   "cell_type": "code",
   "execution_count": 1,
   "id": "61baca0d",
   "metadata": {},
   "outputs": [],
   "source": [
    "import numpy as np"
   ]
  },
  {
   "cell_type": "code",
   "execution_count": 42,
   "id": "9452b3f7",
   "metadata": {},
   "outputs": [
    {
     "data": {
      "text/plain": [
       "array([[2., 6., 2.],\n",
       "       [3., 7., 1.],\n",
       "       [4., 5., 3.]])"
      ]
     },
     "execution_count": 42,
     "metadata": {},
     "output_type": "execute_result"
    }
   ],
   "source": [
    "A = np.array([[2, 6, 2],\n",
    "    [3, 7, 1],\n",
    "    [4, 5, 3]\n",
    "], dtype=float)\n",
    "A"
   ]
  },
  {
   "cell_type": "code",
   "execution_count": 43,
   "id": "44d512b4",
   "metadata": {},
   "outputs": [
    {
     "data": {
      "text/plain": [
       "array([[-0.667,  0.333,  0.333],\n",
       "       [ 0.208,  0.083, -0.167],\n",
       "       [ 0.542, -0.583,  0.167]])"
      ]
     },
     "execution_count": 43,
     "metadata": {},
     "output_type": "execute_result"
    }
   ],
   "source": [
    "np.linalg.inv(A)"
   ]
  },
  {
   "cell_type": "code",
   "execution_count": 44,
   "id": "ba218834",
   "metadata": {},
   "outputs": [
    {
     "data": {
      "text/plain": [
       "array([[1., 0., 0.],\n",
       "       [0., 1., 0.],\n",
       "       [0., 0., 1.]])"
      ]
     },
     "execution_count": 44,
     "metadata": {},
     "output_type": "execute_result"
    }
   ],
   "source": [
    "np.eye(A.shape[0])"
   ]
  },
  {
   "cell_type": "code",
   "execution_count": 45,
   "id": "f5081fff",
   "metadata": {},
   "outputs": [
    {
     "data": {
      "text/plain": [
       "array([[2., 6., 2., 1., 0., 0.],\n",
       "       [3., 7., 1., 0., 1., 0.],\n",
       "       [4., 5., 3., 0., 0., 1.]])"
      ]
     },
     "execution_count": 45,
     "metadata": {},
     "output_type": "execute_result"
    }
   ],
   "source": [
    "n = A.shape[0]\n",
    "aug = np.hstack((A.astype(float), np.eye(n)))\n",
    "aug"
   ]
  },
  {
   "cell_type": "code",
   "execution_count": 46,
   "id": "5a00e5b9",
   "metadata": {},
   "outputs": [
    {
     "data": {
      "text/plain": [
       "(array([2., 3., 4.]), array([7., 5.]), array([3.]))"
      ]
     },
     "execution_count": 46,
     "metadata": {},
     "output_type": "execute_result"
    }
   ],
   "source": [
    "abs(aug[0:, 0]), abs(aug[1:, 1]), abs(aug[2:, 2])"
   ]
  },
  {
   "cell_type": "code",
   "execution_count": 47,
   "id": "00c4efcc",
   "metadata": {},
   "outputs": [
    {
     "data": {
      "text/plain": [
       "(np.int64(2), np.int64(1), np.int64(2))"
      ]
     },
     "execution_count": 47,
     "metadata": {},
     "output_type": "execute_result"
    }
   ],
   "source": [
    "np.argmax(abs(aug[0:, 0])), np.argmax(abs(aug[1:, 1])) + 1, np.argmax(abs(aug[2:, 2])) + 2"
   ]
  },
  {
   "cell_type": "code",
   "execution_count": 48,
   "id": "8393a00a",
   "metadata": {},
   "outputs": [
    {
     "data": {
      "text/plain": [
       "(array([[2., 6., 2., 1., 0., 0.],\n",
       "        [4., 5., 3., 0., 0., 1.]]),\n",
       " array([[4., 5., 3., 0., 0., 1.],\n",
       "        [2., 6., 2., 1., 0., 0.]]))"
      ]
     },
     "execution_count": 48,
     "metadata": {},
     "output_type": "execute_result"
    }
   ],
   "source": [
    "aug[[0, 2]], aug[[2, 0]] # switch them"
   ]
  },
  {
   "cell_type": "code",
   "execution_count": 49,
   "id": "4c1d0f18",
   "metadata": {},
   "outputs": [
    {
     "data": {
      "text/plain": [
       "array([[4., 5., 3., 0., 0., 1.],\n",
       "       [3., 7., 1., 0., 1., 0.],\n",
       "       [2., 6., 2., 1., 0., 0.]])"
      ]
     },
     "execution_count": 49,
     "metadata": {},
     "output_type": "execute_result"
    }
   ],
   "source": [
    "aug[[0, 2]] = aug[[2, 0]]\n",
    "aug"
   ]
  },
  {
   "cell_type": "code",
   "execution_count": 50,
   "id": "99d13a2c",
   "metadata": {},
   "outputs": [
    {
     "data": {
      "text/plain": [
       "array([[1.  , 1.25, 0.75, 0.  , 0.  , 0.25],\n",
       "       [3.  , 7.  , 1.  , 0.  , 1.  , 0.  ],\n",
       "       [2.  , 6.  , 2.  , 1.  , 0.  , 0.  ]])"
      ]
     },
     "execution_count": 50,
     "metadata": {},
     "output_type": "execute_result"
    }
   ],
   "source": [
    "pivot = aug[0, 0]\n",
    "aug[0] = aug[0] / pivot\n",
    "aug"
   ]
  },
  {
   "cell_type": "code",
   "execution_count": 51,
   "id": "3e500493",
   "metadata": {},
   "outputs": [
    {
     "data": {
      "text/plain": [
       "array([[ 1.  ,  1.25,  0.75,  0.  ,  0.  ,  0.25],\n",
       "       [ 0.  ,  3.25, -1.25,  0.  ,  1.  , -0.75],\n",
       "       [ 0.  ,  3.5 ,  0.5 ,  1.  ,  0.  , -0.5 ]])"
      ]
     },
     "execution_count": 51,
     "metadata": {},
     "output_type": "execute_result"
    }
   ],
   "source": [
    "for j in range(1, 3):\n",
    "    factor = aug[j, 0]\n",
    "    aug[j] -= factor * aug[0]\n",
    "\n",
    "aug"
   ]
  },
  {
   "cell_type": "code",
   "execution_count": 52,
   "id": "6dba8032",
   "metadata": {},
   "outputs": [
    {
     "data": {
      "text/plain": [
       "array([[ 1.   ,  1.25 ,  0.75 ,  0.   ,  0.   ,  0.25 ],\n",
       "       [ 0.   ,  1.   , -0.385,  0.   ,  0.308, -0.231],\n",
       "       [ 0.   ,  3.5  ,  0.5  ,  1.   ,  0.   , -0.5  ]])"
      ]
     },
     "execution_count": 52,
     "metadata": {},
     "output_type": "execute_result"
    }
   ],
   "source": [
    "pivot = aug[1, 1]\n",
    "aug[1] = aug[1] / pivot\n",
    "\n",
    "np.set_printoptions(precision=3, suppress=True)\n",
    "aug"
   ]
  },
  {
   "cell_type": "code",
   "execution_count": 53,
   "id": "677309c2",
   "metadata": {},
   "outputs": [
    {
     "data": {
      "text/plain": [
       "array([[ 1.   ,  1.25 ,  0.75 ,  0.   ,  0.   ,  0.25 ],\n",
       "       [ 0.   ,  1.   , -0.385,  0.   ,  0.308, -0.231],\n",
       "       [ 0.   ,  0.   ,  1.846,  1.   , -1.077,  0.308]])"
      ]
     },
     "execution_count": 53,
     "metadata": {},
     "output_type": "execute_result"
    }
   ],
   "source": [
    "for j in range(2, 3):\n",
    "    factor = aug[j, 1]\n",
    "    aug[j] -= factor * aug[1]\n",
    "\n",
    "aug"
   ]
  },
  {
   "cell_type": "code",
   "execution_count": 54,
   "id": "57fad4ef",
   "metadata": {},
   "outputs": [
    {
     "data": {
      "text/plain": [
       "array([[ 1.   ,  1.25 ,  0.75 ,  0.   ,  0.   ,  0.25 ],\n",
       "       [ 0.   ,  1.   , -0.385,  0.   ,  0.308, -0.231],\n",
       "       [ 0.   ,  0.   ,  1.   ,  0.542, -0.583,  0.167]])"
      ]
     },
     "execution_count": 54,
     "metadata": {},
     "output_type": "execute_result"
    }
   ],
   "source": [
    "pivot = aug[2, 2]\n",
    "aug[2] = aug[2] / pivot\n",
    "\n",
    "np.set_printoptions(precision=3, suppress=True)\n",
    "aug"
   ]
  },
  {
   "cell_type": "code",
   "execution_count": 56,
   "id": "a8b57271",
   "metadata": {},
   "outputs": [
    {
     "data": {
      "text/plain": [
       "array([[ 1.   ,  0.   ,  0.   , -0.667,  0.333,  0.333],\n",
       "       [ 0.   ,  1.   ,  0.   ,  0.208,  0.083, -0.167],\n",
       "       [ 0.   ,  0.   ,  1.   ,  0.542, -0.583,  0.167]])"
      ]
     },
     "execution_count": 56,
     "metadata": {},
     "output_type": "execute_result"
    }
   ],
   "source": [
    "for i in range(n - 1, 0, -1):\n",
    "    for j in range(i - 1, -1, -1):\n",
    "        factor = aug[j][i]\n",
    "        aug[j] -= factor * aug[i] \n",
    "\n",
    "aug"
   ]
  },
  {
   "cell_type": "code",
   "execution_count": 57,
   "id": "c425b101",
   "metadata": {},
   "outputs": [
    {
     "data": {
      "text/plain": [
       "array([[-0.667,  0.333,  0.333],\n",
       "       [ 0.208,  0.083, -0.167],\n",
       "       [ 0.542, -0.583,  0.167]])"
      ]
     },
     "execution_count": 57,
     "metadata": {},
     "output_type": "execute_result"
    }
   ],
   "source": [
    "aug[:, n:]"
   ]
  },
  {
   "cell_type": "code",
   "execution_count": 64,
   "id": "16e32403",
   "metadata": {},
   "outputs": [
    {
     "data": {
      "text/plain": [
       "array([[-0.00000000000000011102,  0.                    ,\n",
       "         0.00000000000000011102],\n",
       "       [ 0.                    , -0.00000000000000001388,\n",
       "        -0.00000000000000002776],\n",
       "       [ 0.                    ,  0.                    ,\n",
       "        -0.00000000000000005551]])"
      ]
     },
     "execution_count": 64,
     "metadata": {},
     "output_type": "execute_result"
    }
   ],
   "source": [
    "np.set_printoptions(precision=20, suppress=True)\n",
    "aug[:, n:] - np.linalg.inv(A)"
   ]
  },
  {
   "cell_type": "code",
   "execution_count": 65,
   "id": "1e9dcb86",
   "metadata": {},
   "outputs": [],
   "source": [
    "def gaussian_inverse(A):\n",
    "    \"\"\"\n",
    "    Invert matrix A using Gaussian elimination with partial pivoting.\n",
    "    \"\"\"\n",
    "    n = A.shape[0]\n",
    "    # Create augmented matrix [A | I]\n",
    "    aug = np.hstack((A.astype(float), np.eye(n)))\n",
    "    \n",
    "    # Forward elimination\n",
    "    for i in range(n):\n",
    "        # Partial pivoting\n",
    "        max_row = np.argmax(abs(aug[i:, i])) + i\n",
    "        if aug[max_row, i] == 0:\n",
    "            raise np.linalg.LinAlgError(\"Matrix is singular.\")\n",
    "        # Swap rows\n",
    "        if max_row != i:\n",
    "            aug[[i, max_row]] = aug[[max_row, i]]\n",
    "        \n",
    "        # Normalize pivot row\n",
    "        pivot = aug[i, i]\n",
    "        aug[i] = aug[i] / pivot\n",
    "        \n",
    "        # Eliminate below\n",
    "        for j in range(i + 1, n):\n",
    "            factor = aug[j, i]\n",
    "            aug[j] -= factor * aug[i]\n",
    "    \n",
    "    # Back substitution\n",
    "    for i in range(n - 1, -1, -1):\n",
    "        for j in range(i - 1, -1, -1):\n",
    "            factor = aug[j, i]\n",
    "            aug[j] -= factor * aug[i]\n",
    "    \n",
    "    # Extract inverse from augmented matrix\n",
    "    return aug[:, n:]"
   ]
  },
  {
   "cell_type": "code",
   "execution_count": 66,
   "id": "e16f1ab4",
   "metadata": {},
   "outputs": [
    {
     "data": {
      "text/plain": [
       "array([[-0.6666666666666666 ,  0.33333333333333337,  0.33333333333333326],\n",
       "       [ 0.20833333333333331,  0.08333333333333333, -0.16666666666666666],\n",
       "       [ 0.5416666666666666 , -0.5833333333333334 ,  0.1666666666666667 ]])"
      ]
     },
     "execution_count": 66,
     "metadata": {},
     "output_type": "execute_result"
    }
   ],
   "source": [
    "inv_gauss = gaussian_inverse(A)\n",
    "inv_gauss"
   ]
  },
  {
   "cell_type": "markdown",
   "id": "e61ce88d",
   "metadata": {},
   "source": [
    "Now we implement LU decomposition"
   ]
  },
  {
   "cell_type": "code",
   "execution_count": 68,
   "id": "bc7121d7",
   "metadata": {},
   "outputs": [],
   "source": [
    "def lu_decompose(A):\n",
    "    \"\"\"\n",
    "    Perform LU decomposition with partial pivoting.\n",
    "    Returns P, L, U such that P@A = L@U.\n",
    "    \"\"\"\n",
    "    n = A.shape[0]\n",
    "    U = A.copy().astype(float)\n",
    "    L = np.eye(n)\n",
    "    P = np.eye(n)\n",
    "    \n",
    "    for i in range(n):\n",
    "        # Partial pivoting\n",
    "        max_row = np.argmax(abs(U[i:, i])) + i\n",
    "        if U[max_row, i] == 0:\n",
    "            raise np.linalg.LinAlgError(\"Matrix is singular.\")\n",
    "        # Swap rows in U and P, and L (columns before i)\n",
    "        if max_row != i:\n",
    "            U[[i, max_row]] = U[[max_row, i]]\n",
    "            P[[i, max_row]] = P[[max_row, i]]\n",
    "            if i > 0:\n",
    "                L[[i, max_row], :i] = L[[max_row, i], :i]\n",
    "        \n",
    "        # Eliminate below\n",
    "        for j in range(i + 1, n):\n",
    "            L[j, i] = U[j, i] / U[i, i]\n",
    "            U[j] -= L[j, i] * U[i]\n",
    "    \n",
    "    return P, L, U"
   ]
  },
  {
   "cell_type": "code",
   "execution_count": 72,
   "id": "18cc0f7b",
   "metadata": {},
   "outputs": [
    {
     "data": {
      "text/plain": [
       "(array([[0., 0., 1.],\n",
       "        [1., 0., 0.],\n",
       "        [0., 1., 0.]]),\n",
       " array([[1.   , 0.   , 0.   ],\n",
       "        [0.5  , 1.   , 0.   ],\n",
       "        [0.75 , 0.929, 1.   ]]),\n",
       " array([[ 4.   ,  5.   ,  3.   ],\n",
       "        [ 0.   ,  3.5  ,  0.5  ],\n",
       "        [ 0.   ,  0.   , -1.714]]))"
      ]
     },
     "execution_count": 72,
     "metadata": {},
     "output_type": "execute_result"
    }
   ],
   "source": [
    "np.set_printoptions(precision=3, suppress=True)\n",
    "n = A.shape[0]\n",
    "P, L, U = lu_decompose(A)\n",
    "P, L, U"
   ]
  },
  {
   "cell_type": "code",
   "execution_count": 74,
   "id": "6ad283ec",
   "metadata": {},
   "outputs": [
    {
     "data": {
      "text/plain": [
       "array([0., 1., 0.])"
      ]
     },
     "execution_count": 74,
     "metadata": {},
     "output_type": "execute_result"
    }
   ],
   "source": [
    "inv = np.zeros_like(A, dtype=float)\n",
    "I = np.eye(n)\n",
    "P @ I[:, 0]"
   ]
  },
  {
   "cell_type": "code",
   "execution_count": 76,
   "id": "3bee8f1e",
   "metadata": {},
   "outputs": [
    {
     "data": {
      "text/plain": [
       "array([[1.   , 0.   , 0.   ],\n",
       "       [0.5  , 1.   , 0.   ],\n",
       "       [0.75 , 0.929, 1.   ]])"
      ]
     },
     "execution_count": 76,
     "metadata": {},
     "output_type": "execute_result"
    }
   ],
   "source": [
    "y = np.zeros(n)\n",
    "L"
   ]
  },
  {
   "cell_type": "code",
   "execution_count": 79,
   "id": "91fc3a6f",
   "metadata": {},
   "outputs": [],
   "source": [
    "def lu_inverse(A):\n",
    "    \"\"\"\n",
    "    Invert matrix A using LU decomposition.\n",
    "    \"\"\"\n",
    "    n = A.shape[0]\n",
    "    P, L, U = lu_decompose(A)\n",
    "    inv = np.zeros_like(A, dtype=float)\n",
    "    \n",
    "    # Solve for each column of the inverse\n",
    "    I = np.eye(n)\n",
    "    for i in range(n):\n",
    "        # Solve Ly = P@e_i\n",
    "        b = P @ I[:, i]\n",
    "        y = np.zeros(n)\n",
    "        for j in range(n):\n",
    "            y[j] = b[j] - L[j, :j] @ y[:j]\n",
    "        # Solve Ux = y\n",
    "        x = np.zeros(n)\n",
    "        for j in range(n - 1, -1, -1):\n",
    "            x[j] = (y[j] - U[j, j+1:] @ x[j+1:]) / U[j, j]\n",
    "        inv[:, i] = x\n",
    "    return inv"
   ]
  },
  {
   "cell_type": "code",
   "execution_count": 80,
   "id": "bf794aae",
   "metadata": {},
   "outputs": [
    {
     "data": {
      "text/plain": [
       "array([[-0.667,  0.333,  0.333],\n",
       "       [ 0.208,  0.083, -0.167],\n",
       "       [ 0.542, -0.583,  0.167]])"
      ]
     },
     "execution_count": 80,
     "metadata": {},
     "output_type": "execute_result"
    }
   ],
   "source": [
    "inv_lu = lu_inverse(A)\n",
    "inv_np = np.linalg.inv(A)\n",
    "inv_np"
   ]
  },
  {
   "cell_type": "code",
   "execution_count": null,
   "id": "966686e3",
   "metadata": {},
   "outputs": [],
   "source": []
  }
 ],
 "metadata": {
  "kernelspec": {
   "display_name": "venv",
   "language": "python",
   "name": "python3"
  },
  "language_info": {
   "codemirror_mode": {
    "name": "ipython",
    "version": 3
   },
   "file_extension": ".py",
   "mimetype": "text/x-python",
   "name": "python",
   "nbconvert_exporter": "python",
   "pygments_lexer": "ipython3",
   "version": "3.12.11"
  }
 },
 "nbformat": 4,
 "nbformat_minor": 5
}
