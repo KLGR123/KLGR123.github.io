{
 "cells": [
  {
   "cell_type": "markdown",
   "id": "b2b0a987",
   "metadata": {},
   "source": [
    "trpo 算法是用到共轭梯度法的，我有点忘记了，故而复习。\n",
    "\n",
    "Conjugate Gradient（共轭梯度）算法是一种迭代求解大型线性方程组 Ax = b，的方法，其中 A 为对称正定（symmetric positive–definite）矩阵，x 为待求解的向量，b 为已知向量。"
   ]
  },
  {
   "cell_type": "markdown",
   "id": "35464ccc",
   "metadata": {},
   "source": []
  },
  {
   "cell_type": "markdown",
   "id": "509f6464",
   "metadata": {},
   "source": [
    "如下是当重要性比例全都小于 1，即当前 rollout 轨迹被弱化；如果对应优势 A < 0，则对应 Geometric Mean 会比 GRPO 的 Arithmetic Mean 更低，对应更容易被 clipped。"
   ]
  }
 ],
 "metadata": {
  "kernelspec": {
   "display_name": "venv",
   "language": "python",
   "name": "python3"
  },
  "language_info": {
   "codemirror_mode": {
    "name": "ipython",
    "version": 3
   },
   "file_extension": ".py",
   "mimetype": "text/x-python",
   "name": "python",
   "nbconvert_exporter": "python",
   "pygments_lexer": "ipython3",
   "version": "3.12.11"
  }
 },
 "nbformat": 4,
 "nbformat_minor": 5
}
