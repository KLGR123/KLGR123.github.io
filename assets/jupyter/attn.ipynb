{
 "cells": [
  {
   "cell_type": "code",
   "execution_count": 3,
   "metadata": {},
   "outputs": [],
   "source": [
    "import torch\n",
    "from torch import nn, einsum"
   ]
  },
  {
   "cell_type": "code",
   "execution_count": 4,
   "metadata": {},
   "outputs": [],
   "source": [
    "q = torch.randn(10, 128, 30, 512)\n",
    "k = torch.randn(10, 128, 40, 512)"
   ]
  },
  {
   "cell_type": "code",
   "execution_count": 5,
   "metadata": {},
   "outputs": [
    {
     "data": {
      "text/plain": [
       "torch.Size([10, 128, 30, 40])"
      ]
     },
     "execution_count": 5,
     "metadata": {},
     "output_type": "execute_result"
    }
   ],
   "source": [
    "sim = einsum('b n i d, b n j d -> b n i j', q, k)\n",
    "sim.shape"
   ]
  },
  {
   "cell_type": "code",
   "execution_count": 6,
   "metadata": {},
   "outputs": [
    {
     "data": {
      "text/plain": [
       "torch.Size([10, 128, 30, 40])"
      ]
     },
     "execution_count": 6,
     "metadata": {},
     "output_type": "execute_result"
    }
   ],
   "source": [
    "sim = q @ k.transpose(-2, -1)\n",
    "sim.shape"
   ]
  },
  {
   "cell_type": "code",
   "execution_count": 17,
   "metadata": {},
   "outputs": [
    {
     "data": {
      "text/plain": [
       "(torch.Size([1280, 30, 512]), [torch.Size([10, 128])])"
      ]
     },
     "execution_count": 17,
     "metadata": {},
     "output_type": "execute_result"
    }
   ],
   "source": [
    "from einops import pack\n",
    "q, ps = pack([q], '* n i')\n",
    "\n",
    "q.shape, ps"
   ]
  },
  {
   "cell_type": "code",
   "execution_count": 24,
   "metadata": {},
   "outputs": [
    {
     "data": {
      "text/plain": [
       "torch.Size([2, 3, 4])"
      ]
     },
     "execution_count": 24,
     "metadata": {},
     "output_type": "execute_result"
    }
   ],
   "source": [
    "from einops import unpack\n",
    "\n",
    "x = torch.randn(2, 3, 4)\n",
    "packed, ps = pack([x], '* h')\n",
    "unpacked = unpack(packed, ps, '* h')\n",
    "unpacked[0].shape"
   ]
  },
  {
   "cell_type": "code",
   "execution_count": 33,
   "metadata": {},
   "outputs": [],
   "source": [
    "li = iter([1, 2, 3])\n",
    "one = next(li)\n",
    "two = next(li)\n",
    "next(li)\n",
    "next(li, None)"
   ]
  },
  {
   "cell_type": "markdown",
   "metadata": {},
   "source": [
    "如下验证 softmax 激活会提高 attention 注意力矩阵的秩。\n",
    "秩的提升，决定了表达能力的提升。"
   ]
  },
  {
   "cell_type": "code",
   "execution_count": 15,
   "metadata": {},
   "outputs": [
    {
     "data": {
      "text/plain": [
       "(tensor(2), tensor(4))"
      ]
     },
     "execution_count": 15,
     "metadata": {},
     "output_type": "execute_result"
    }
   ],
   "source": [
    "import torch\n",
    "\n",
    "n_heads = 4\n",
    "d_model = 4\n",
    "\n",
    "Q = torch.tensor([\n",
    "    [1., 2., 3., 4.],   \n",
    "    [2., 4., 6., 8.],\n",
    "    [1., 1., 1., 1.],\n",
    "    [0., 0., 0., 0.]\n",
    "])\n",
    "\n",
    "K = torch.randn(n_heads, d_model)\n",
    "QK = torch.matmul(Q, K.T)\n",
    "QK_softmax = torch.softmax(QK, dim=-1)\n",
    "\n",
    "rank_QK = torch.linalg.matrix_rank(QK)\n",
    "rank_QK_softmax = torch.linalg.matrix_rank(QK_softmax)\n",
    "\n",
    "rank_QK, rank_QK_softmax"
   ]
  }
 ],
 "metadata": {
  "kernelspec": {
   "display_name": "venv",
   "language": "python",
   "name": "python3"
  },
  "language_info": {
   "codemirror_mode": {
    "name": "ipython",
    "version": 3
   },
   "file_extension": ".py",
   "mimetype": "text/x-python",
   "name": "python",
   "nbconvert_exporter": "python",
   "pygments_lexer": "ipython3",
   "version": "3.12.11"
  }
 },
 "nbformat": 4,
 "nbformat_minor": 2
}
