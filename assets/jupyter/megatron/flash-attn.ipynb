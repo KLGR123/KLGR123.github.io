{
 "cells": [
  {
   "cell_type": "markdown",
   "id": "88d0cf45",
   "metadata": {},
   "source": [
    "\n",
    "\n",
    "\n",
    "<div align=\"center\">\n",
    "<img src=\"https://github.com/Dao-AILab/flash-attention/blob/main/assets/flashattn_banner.jpg?raw=true\" alt=\"fused kernel\" width=\"40%\">\n",
    "</div>"
   ]
  },
  {
   "cell_type": "code",
   "execution_count": null,
   "id": "cb5348be",
   "metadata": {
    "vscode": {
     "languageId": "plaintext"
    }
   },
   "outputs": [],
   "source": []
  },
  {
   "cell_type": "markdown",
   "id": "194da4c1",
   "metadata": {},
   "source": []
  }
 ],
 "metadata": {
  "language_info": {
   "name": "python"
  }
 },
 "nbformat": 4,
 "nbformat_minor": 5
}
